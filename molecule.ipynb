{
 "cells": [
  {
   "cell_type": "code",
   "execution_count": null,
   "metadata": {},
   "outputs": [],
   "source": [
    "from mol_text_align import MolTextAligner\n",
    "from model.unimol_simple import SimpleUniMolModel\n",
    "import argparse \n",
    "\n",
    "parser = argparse.ArgumentParser()\n",
    "SimpleUniMolModel.add_args(parser) \n",
    "parser.add_argument(\"--bert-name\", type=str, default=\"molT5\")   # choose the text encoder : sci_bert / molT5\n",
    "parser.add_argument(\"--vae\", type=str, default=\"./LDMol/checkpoint_autoencoder.ckpt\")  \n",
    "parser.add_argument(\"--smiles-encoder-dim\", type=int, default=64)\n",
    "parser.add_argument(\"--text-encoder-embed-dim\", type=int, default=1024)   # sci_bert : 768, molT5 : 1024\n",
    "parser.add_argument(\"--temperature\", type=float, default=0.1)\n",
    "parser.add_argument(\"--embed-dim\", type=int, default=512)\n",
    "args = parser.parse_args([])\n",
    "\n",
    "MTA = MolTextAligner(args)"
   ]
  },
  {
   "cell_type": "code",
   "execution_count": null,
   "metadata": {},
   "outputs": [],
   "source": [
    "from torch.optim import Adam\n",
    "from rich.progress import Progress\n",
    "from data_provider.unimol_dataset import batch_provider\n",
    "\n",
    "data_path = 'C:/Users/namjo/OneDrive/문서/GitHub/Molecule-Text-Alignment/3d-pubchem.lmdb'\n",
    "bert_name = args.bert_name\n",
    "\n",
    "lr = 2e-4; weight_decay = 1e-6; n_epochs = 5000\n",
    "\n",
    "optimizer = Adam(MTA.parameters(), lr=lr, weight_decay=weight_decay)\n",
    "\n",
    "with Progress() as progress:\n",
    "    training_task = progress.add_task(\"[red]Training...\", total=n_epochs)\n",
    "\n",
    "    for epoch in range(n_epochs):\n",
    "        smiles_tokens, padded_atom_vec, padded_dist, padded_edge_type, token_idxs, attention_masks = batch_provider(data_path, bert_name)\n",
    "        optimizer.zero_grad()      \n",
    "        loss_Auto = MTA(smiles_tokens, padded_atom_vec, padded_dist, padded_edge_type, token_idxs, attention_masks)\n",
    "        loss_Auto.backward()\n",
    "        optimizer.step()\n",
    "        progress.update(training_task, advance=1, description=f\"Epoch {epoch}/{n_epochs} - Loss: {loss_Auto.item():.4f}\")\n"
   ]
  }
 ],
 "metadata": {
  "kernelspec": {
   "display_name": "Python 3",
   "language": "python",
   "name": "python3"
  },
  "language_info": {
   "codemirror_mode": {
    "name": "ipython",
    "version": 3
   },
   "file_extension": ".py",
   "mimetype": "text/x-python",
   "name": "python",
   "nbconvert_exporter": "python",
   "pygments_lexer": "ipython3",
   "version": "3.12.6"
  }
 },
 "nbformat": 4,
 "nbformat_minor": 2
}
